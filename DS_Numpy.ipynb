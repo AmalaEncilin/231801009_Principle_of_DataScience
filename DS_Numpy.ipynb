{
  "nbformat": 4,
  "nbformat_minor": 0,
  "metadata": {
    "colab": {
      "provenance": []
    },
    "kernelspec": {
      "name": "python3",
      "display_name": "Python 3"
    },
    "language_info": {
      "name": "python"
    }
  },
  "cells": [
    {
      "cell_type": "code",
      "execution_count": null,
      "metadata": {
        "colab": {
          "base_uri": "https://localhost:8080/"
        },
        "id": "xLgLKjY2XSh2",
        "outputId": "9f39e7ea-812a-40b5-c742-b75d576fd788"
      },
      "outputs": [
        {
          "output_type": "stream",
          "name": "stdout",
          "text": [
            "[1 2 3 4 5]\n"
          ]
        }
      ],
      "source": [
        "import numpy as np\n",
        "arr=np.array([1,2,3,4,5])\n",
        "print(arr)"
      ]
    },
    {
      "cell_type": "code",
      "source": [
        "my_arr=np.arange(10)\n",
        "print(my_arr)\n",
        "print(type(my_arr))"
      ],
      "metadata": {
        "colab": {
          "base_uri": "https://localhost:8080/"
        },
        "id": "iL9nXIVzXeUz",
        "outputId": "91075efe-dce3-4f1a-cf4f-5d13d7b77041"
      },
      "execution_count": null,
      "outputs": [
        {
          "output_type": "stream",
          "name": "stdout",
          "text": [
            "[0 1 2 3 4 5 6 7 8 9]\n",
            "<class 'numpy.ndarray'>\n"
          ]
        }
      ]
    },
    {
      "cell_type": "code",
      "source": [
        "my_list=list(range(10))\n",
        "print(my_list)\n",
        "print(type(my_list))"
      ],
      "metadata": {
        "colab": {
          "base_uri": "https://localhost:8080/"
        },
        "id": "SAJIsESpYMxj",
        "outputId": "a5d06f7a-f3a0-449c-ee49-5a08f813ea3a"
      },
      "execution_count": null,
      "outputs": [
        {
          "output_type": "stream",
          "name": "stdout",
          "text": [
            "[0, 1, 2, 3, 4, 5, 6, 7, 8, 9]\n",
            "<class 'list'>\n"
          ]
        }
      ]
    },
    {
      "cell_type": "code",
      "source": [
        "import sys\n",
        "s=range(1000)\n",
        "print(\"Size of each element of list in bytes:\",sys.getsizeof(s))\n",
        "print(\"Size of the whole list in bytes:\",sys.getsizeof(s)*len(s))\n",
        "\n",
        "d=np.arange(1000)\n",
        "print(\"Size of each element of list in bytes:\",d.itemsize)\n",
        "print(\"Size of the whole list in bytes:\",d.size*d.itemsize)\n"
      ],
      "metadata": {
        "colab": {
          "base_uri": "https://localhost:8080/"
        },
        "id": "_wnILn8AYncL",
        "outputId": "bcb36d48-41ea-422a-a964-edc3d3ce5182"
      },
      "execution_count": null,
      "outputs": [
        {
          "output_type": "stream",
          "name": "stdout",
          "text": [
            "Size of each element of list in bytes: 48\n",
            "Size of the whole list in bytes: 48000\n",
            "Size of each element of list in bytes: 8\n",
            "Size of the whole list in bytes: 8000\n"
          ]
        }
      ]
    },
    {
      "cell_type": "code",
      "source": [
        "print(type(s))"
      ],
      "metadata": {
        "colab": {
          "base_uri": "https://localhost:8080/"
        },
        "id": "UsjlmXJOa3ZM",
        "outputId": "2e1c7c3c-e8ef-4a42-952c-625d81b6ccc5"
      },
      "execution_count": null,
      "outputs": [
        {
          "output_type": "stream",
          "name": "stdout",
          "text": [
            "<class 'range'>\n"
          ]
        }
      ]
    },
    {
      "cell_type": "code",
      "source": [
        "arr=np.array(42)\n",
        "print(arr)"
      ],
      "metadata": {
        "colab": {
          "base_uri": "https://localhost:8080/"
        },
        "id": "Z1PDdJJYa73b",
        "outputId": "c5fb30a3-9319-423d-a75a-6dcc56663fdd"
      },
      "execution_count": null,
      "outputs": [
        {
          "output_type": "stream",
          "name": "stdout",
          "text": [
            "42\n"
          ]
        }
      ]
    },
    {
      "cell_type": "code",
      "source": [
        "arr=np.array([1,2,3,4,5])\n",
        "print(arr)"
      ],
      "metadata": {
        "colab": {
          "base_uri": "https://localhost:8080/"
        },
        "id": "5zmYKY0bbDYD",
        "outputId": "79b2ce0a-3b26-4608-93be-4312e921fc09"
      },
      "execution_count": null,
      "outputs": [
        {
          "output_type": "stream",
          "name": "stdout",
          "text": [
            "[1 2 3 4 5]\n"
          ]
        }
      ]
    },
    {
      "cell_type": "code",
      "source": [
        "arr = np.array([[1, 2, 3], [4, 5, 6]])\n",
        "print(arr)"
      ],
      "metadata": {
        "colab": {
          "base_uri": "https://localhost:8080/"
        },
        "id": "9sq_eiPMbLXb",
        "outputId": "d252cda7-67ac-4958-c617-f42306ce4903"
      },
      "execution_count": null,
      "outputs": [
        {
          "output_type": "stream",
          "name": "stdout",
          "text": [
            "[[1 2 3]\n",
            " [4 5 6]]\n"
          ]
        }
      ]
    },
    {
      "cell_type": "code",
      "source": [
        "arr = np.array([[[1, 2, 3], [4, 5, 6]], [[1, 2, 3], [4, 5, 6]]])\n",
        "print(arr)"
      ],
      "metadata": {
        "colab": {
          "base_uri": "https://localhost:8080/"
        },
        "id": "xtciCRBqbNu8",
        "outputId": "81176a5a-859e-4ae0-b1c4-8ceb73c811cf"
      },
      "execution_count": null,
      "outputs": [
        {
          "output_type": "stream",
          "name": "stdout",
          "text": [
            "[[[1 2 3]\n",
            "  [4 5 6]]\n",
            "\n",
            " [[1 2 3]\n",
            "  [4 5 6]]]\n"
          ]
        }
      ]
    },
    {
      "cell_type": "code",
      "source": [
        "a=np.array(5)\n",
        "print(a.ndim)\n",
        "b=np.array([1,2,3,4,5])\n",
        "print(b.ndim)\n",
        "c=np.array([[1,2,3],[4,5,6]])\n",
        "print(c.ndim)"
      ],
      "metadata": {
        "colab": {
          "base_uri": "https://localhost:8080/"
        },
        "id": "eot_kJJeY5e5",
        "outputId": "168857c3-8b43-4578-854c-8fa8dbd582d3"
      },
      "execution_count": null,
      "outputs": [
        {
          "output_type": "stream",
          "name": "stdout",
          "text": [
            "0\n",
            "1\n",
            "2\n"
          ]
        }
      ]
    },
    {
      "cell_type": "code",
      "source": [
        "arr = np.array([1, 2, 3, 4], ndmin=5)\n",
        "print(arr)\n",
        "print('number of dimensions :', arr.ndim)"
      ],
      "metadata": {
        "colab": {
          "base_uri": "https://localhost:8080/"
        },
        "id": "kfA7ePjcbSfb",
        "outputId": "bd876a80-b004-480e-a36c-14e0558af065"
      },
      "execution_count": null,
      "outputs": [
        {
          "output_type": "stream",
          "name": "stdout",
          "text": [
            "[[[[[1 2 3 4]]]]]\n",
            "number of dimensions : 5\n"
          ]
        }
      ]
    },
    {
      "cell_type": "code",
      "source": [
        "data = np.array([[1.5, -0.1, 3], [0, -3, 6.5]])\n",
        "print(\"Shape= \",data.shape)\n",
        "print(\"Type= \",data.dtype)\n",
        "print(\"Data = \", data)\n",
        "print(\"\\nAns1 = \",data * 10)\n",
        "print(\"\\nAns2= \",data+data)"
      ],
      "metadata": {
        "colab": {
          "base_uri": "https://localhost:8080/"
        },
        "id": "D4FHEYbmbVKk",
        "outputId": "47290c1b-ee4d-4a0e-de65-573579d549c9"
      },
      "execution_count": null,
      "outputs": [
        {
          "output_type": "stream",
          "name": "stdout",
          "text": [
            "Shape=  (2, 3)\n",
            "Type=  float64\n",
            "Data =  [[ 1.5 -0.1  3. ]\n",
            " [ 0.  -3.   6.5]]\n",
            "\n",
            "Ans1 =  [[ 15.  -1.  30.]\n",
            " [  0. -30.  65.]]\n",
            "\n",
            "Ans2=  [[ 3.  -0.2  6. ]\n",
            " [ 0.  -6.  13. ]]\n"
          ]
        }
      ]
    },
    {
      "cell_type": "code",
      "source": [
        "my_list = [1, 2, 3, 4, 5]\n",
        "arr = np.array(my_list)\n",
        "print(type(arr))\n",
        "print(arr)\n",
        "print(\"\\n\", arr.dtype)"
      ],
      "metadata": {
        "colab": {
          "base_uri": "https://localhost:8080/"
        },
        "id": "R2aYxQ2XbXE8",
        "outputId": "0bfecf43-7f19-402c-b2ca-1a03dbef3c28"
      },
      "execution_count": null,
      "outputs": [
        {
          "output_type": "stream",
          "name": "stdout",
          "text": [
            "<class 'numpy.ndarray'>\n",
            "[1 2 3 4 5]\n",
            "\n",
            " int64\n"
          ]
        }
      ]
    },
    {
      "cell_type": "code",
      "source": [
        "zeros_arr = np.zeros((5,2))\n",
        "eros_arr = np.zeros(5)\n",
        "print(zeros_arr)\n",
        "\n",
        "zeros_arr = np.zeros((2,3))\n",
        "print(zeros_arr)"
      ],
      "metadata": {
        "colab": {
          "base_uri": "https://localhost:8080/"
        },
        "id": "RKRSg3U8bZus",
        "outputId": "8babfbd8-3e9c-4443-feca-4c3d97cf128f"
      },
      "execution_count": null,
      "outputs": [
        {
          "output_type": "stream",
          "name": "stdout",
          "text": [
            "[[0. 0.]\n",
            " [0. 0.]\n",
            " [0. 0.]\n",
            " [0. 0.]\n",
            " [0. 0.]]\n",
            "[[0. 0. 0.]\n",
            " [0. 0. 0.]]\n"
          ]
        }
      ]
    },
    {
      "cell_type": "code",
      "source": [
        "ones_arr = np.ones(6)\n",
        "print(ones_arr)\n",
        "ones_arr = np.ones((3,2,4))\n",
        "print(\"\\n\",ones_arr)\n",
        "print(\"\\n ndim= \",ones_arr.ndim)\n",
        "print(\"\\nData type of the array: \",ones_arr.dtype)\n",
        "ones_arr_int = np.ones((2,2), dtype=np.int16)\n",
        "print(\"\\nArray of ones with integer elements: \\n\",ones_arr_int)"
      ],
      "metadata": {
        "colab": {
          "base_uri": "https://localhost:8080/"
        },
        "id": "9lZIuhZObksT",
        "outputId": "869d3791-3c42-4e61-b275-05cadc7bd0a6"
      },
      "execution_count": null,
      "outputs": [
        {
          "output_type": "stream",
          "name": "stdout",
          "text": [
            "[1. 1. 1. 1. 1. 1.]\n",
            "\n",
            " [[[1. 1. 1. 1.]\n",
            "  [1. 1. 1. 1.]]\n",
            "\n",
            " [[1. 1. 1. 1.]\n",
            "  [1. 1. 1. 1.]]\n",
            "\n",
            " [[1. 1. 1. 1.]\n",
            "  [1. 1. 1. 1.]]]\n",
            "\n",
            " ndim=  3\n",
            "\n",
            "Data type of the array:  float64\n",
            "\n",
            "Array of ones with integer elements: \n",
            " [[1 1]\n",
            " [1 1]]\n"
          ]
        }
      ]
    },
    {
      "cell_type": "code",
      "source": [
        "empty_arr = np.empty((3,2))\n",
        "print(empty_arr)\n",
        "print(\"\\nData type of the array: \",empty_arr.dtype)"
      ],
      "metadata": {
        "colab": {
          "base_uri": "https://localhost:8080/"
        },
        "id": "9xp4GMNrbpRD",
        "outputId": "ad7d1a59-4776-4569-fb55-6691f01c360a"
      },
      "execution_count": null,
      "outputs": [
        {
          "output_type": "stream",
          "name": "stdout",
          "text": [
            "[[1. 1.]\n",
            " [1. 1.]\n",
            " [1. 1.]]\n",
            "\n",
            "Data type of the array:  float64\n"
          ]
        }
      ]
    },
    {
      "cell_type": "code",
      "source": [
        "identity_matrix = np.eye(3)\n",
        "print(identity_matrix)\n",
        "identity_matrix = np.eye(4)\n",
        "print(\"\\n\",identity_matrix)"
      ],
      "metadata": {
        "id": "saytAfcBbtyL",
        "outputId": "1d4e7dd7-4f9c-47d6-9302-498d3d0b34be",
        "colab": {
          "base_uri": "https://localhost:8080/"
        }
      },
      "execution_count": null,
      "outputs": [
        {
          "output_type": "stream",
          "name": "stdout",
          "text": [
            "[[1. 0. 0.]\n",
            " [0. 1. 0.]\n",
            " [0. 0. 1.]]\n",
            "\n",
            " [[1. 0. 0. 0.]\n",
            " [0. 1. 0. 0.]\n",
            " [0. 0. 1. 0.]\n",
            " [0. 0. 0. 1.]]\n"
          ]
        }
      ]
    },
    {
      "cell_type": "code",
      "source": [
        "zero=np.zeros((3,3))\n",
        "print(zero)"
      ],
      "metadata": {
        "colab": {
          "base_uri": "https://localhost:8080/"
        },
        "id": "rpPy_VxxayLy",
        "outputId": "53c8a11d-441f-4a3e-fc84-65babe629a57"
      },
      "execution_count": null,
      "outputs": [
        {
          "output_type": "stream",
          "name": "stdout",
          "text": [
            "[[0. 0. 0.]\n",
            " [0. 0. 0.]\n",
            " [0. 0. 0.]]\n"
          ]
        }
      ]
    },
    {
      "cell_type": "code",
      "source": [
        "zero=np.ones((3,3))\n",
        "print(zero)"
      ],
      "metadata": {
        "colab": {
          "base_uri": "https://localhost:8080/"
        },
        "id": "NqdFojyjbYiR",
        "outputId": "986acebe-d9c2-4aab-dabe-a06a85bc25ee"
      },
      "execution_count": null,
      "outputs": [
        {
          "output_type": "stream",
          "name": "stdout",
          "text": [
            "[[1. 1. 1.]\n",
            " [1. 1. 1.]\n",
            " [1. 1. 1.]]\n"
          ]
        }
      ]
    },
    {
      "cell_type": "code",
      "source": [
        "zero=np.eye((3))\n",
        "print(zero)"
      ],
      "metadata": {
        "colab": {
          "base_uri": "https://localhost:8080/"
        },
        "id": "MHZywPc5bdix",
        "outputId": "3e701cde-5a5e-44c0-bb95-77c9621788e3"
      },
      "execution_count": null,
      "outputs": [
        {
          "output_type": "stream",
          "name": "stdout",
          "text": [
            "[[1. 0. 0.]\n",
            " [0. 1. 0.]\n",
            " [0. 0. 1.]]\n"
          ]
        }
      ]
    },
    {
      "cell_type": "code",
      "source": [
        "import numpy as np\n",
        "arr1 = np.array([1, 2, 3], dtype=np.float64)\n",
        "arr2 = np.array([1, 2, 3], dtype=np.int32)\n",
        "print(arr1.dtype)\n",
        "print(arr2.dtype)"
      ],
      "metadata": {
        "colab": {
          "base_uri": "https://localhost:8080/"
        },
        "id": "gxcNym2hwwHl",
        "outputId": "141345e8-1062-453e-e819-0ae554fd0706"
      },
      "execution_count": null,
      "outputs": [
        {
          "output_type": "stream",
          "name": "stdout",
          "text": [
            "float64\n",
            "int32\n"
          ]
        }
      ]
    },
    {
      "cell_type": "code",
      "source": [
        "arr = np.array([1.1, 2.2, 3.3])\n",
        "print(\"Before converting: \", arr, arr.dtype)\n",
        "new_arr = arr.astype('i')\n",
        "print(\"After converting: \", new_arr, new_arr.dtype)"
      ],
      "metadata": {
        "colab": {
          "base_uri": "https://localhost:8080/"
        },
        "id": "FqiHzqYZbgcJ",
        "outputId": "ad404f20-8e76-458c-a626-42ce7cf82413"
      },
      "execution_count": null,
      "outputs": [
        {
          "output_type": "stream",
          "name": "stdout",
          "text": [
            "Before converting:  [1.1 2.2 3.3] float64\n",
            "After converting:  [1 2 3] int32\n"
          ]
        }
      ]
    },
    {
      "cell_type": "code",
      "source": [
        "arr = np.array(['1.1', '2.2', '-3.3'])\n",
        "print(\"Before converting: \", arr, arr.dtype)\n",
        "new_arr = arr.astype('f')\n",
        "print(\"After converting: \", new_arr, new_arr.dtype)"
      ],
      "metadata": {
        "colab": {
          "base_uri": "https://localhost:8080/"
        },
        "id": "h16PtwEzcOgB",
        "outputId": "d782fd4e-f62d-4484-8e59-f49d0391ae66"
      },
      "execution_count": null,
      "outputs": [
        {
          "output_type": "stream",
          "name": "stdout",
          "text": [
            "Before converting:  ['1.1' '2.2' '-3.3'] <U4\n",
            "After converting:  [ 1.1  2.2 -3.3] float32\n"
          ]
        }
      ]
    },
    {
      "cell_type": "code",
      "source": [
        "arr1 = np.arange(10)\n",
        "arr2 = np.random.randn(10)\n",
        "print(\"array 1\\n\",arr1, arr1.dtype)\n",
        "print(\"Array 2 \\n\",arr2, arr2.dtype)\n",
        "new_arr = arr1.astype(arr2.dtype)\n",
        "print(\"New Array \\n\",new_arr, new_arr.dtype)"
      ],
      "metadata": {
        "colab": {
          "base_uri": "https://localhost:8080/"
        },
        "id": "w-OBBsXbw6ha",
        "outputId": "7abb1ffd-5986-4958-c586-81ba0d842b76"
      },
      "execution_count": null,
      "outputs": [
        {
          "output_type": "stream",
          "name": "stdout",
          "text": [
            "array 1\n",
            " [0 1 2 3 4 5 6 7 8 9] int64\n",
            "Array 2 \n",
            " [-0.98355141  0.52259365  0.67554087 -0.6568855  -0.02571189  0.68800862\n",
            " -0.43361891 -0.03295461 -0.13025501 -0.84587695] float64\n",
            "New Array \n",
            " [0. 1. 2. 3. 4. 5. 6. 7. 8. 9.] float64\n"
          ]
        }
      ]
    },
    {
      "cell_type": "code",
      "source": [
        "str_arr = np.array(['hello', 'world', 'numpy'])\n",
        "print(str_arr)"
      ],
      "metadata": {
        "colab": {
          "base_uri": "https://localhost:8080/"
        },
        "id": "ygU5EguTxEbC",
        "outputId": "7362c847-856f-42c7-d185-e7c00d9f65d1"
      },
      "execution_count": null,
      "outputs": [
        {
          "output_type": "stream",
          "name": "stdout",
          "text": [
            "['hello' 'world' 'numpy']\n"
          ]
        }
      ]
    },
    {
      "cell_type": "code",
      "source": [
        "a=np.array([1,2,3,4])\n",
        "b=np.array([5,6,7,8])\n",
        "print(a+b)\n",
        "print(a-b)\n",
        "print(a*b)\n",
        "print(a/b)\n",
        "print(a**b)"
      ],
      "metadata": {
        "colab": {
          "base_uri": "https://localhost:8080/"
        },
        "id": "zO8bIohqcSiJ",
        "outputId": "1cc62266-7b09-484e-e0c6-4e7f922ac83d"
      },
      "execution_count": null,
      "outputs": [
        {
          "output_type": "stream",
          "name": "stdout",
          "text": [
            "[ 6  8 10 12]\n",
            "[-4 -4 -4 -4]\n",
            "[ 5 12 21 32]\n",
            "[0.2        0.33333333 0.42857143 0.5       ]\n",
            "[    1    64  2187 65536]\n"
          ]
        }
      ]
    },
    {
      "cell_type": "code",
      "source": [
        "a=np.array([1,2,3,4])\n",
        "b=np.array([5,6,7,8])\n",
        "print(a+1)\n",
        "print(a-1)\n",
        "print(a*2)\n",
        "print(a/2)\n",
        "print(a**2)\n",
        "print(1/a)"
      ],
      "metadata": {
        "colab": {
          "base_uri": "https://localhost:8080/"
        },
        "id": "KX-98ZEy0u08",
        "outputId": "37a0e506-fc47-4530-8d89-adbdefa00a71"
      },
      "execution_count": null,
      "outputs": [
        {
          "output_type": "stream",
          "name": "stdout",
          "text": [
            "[2 3 4 5]\n",
            "[0 1 2 3]\n",
            "[2 4 6 8]\n",
            "[0.5 1.  1.5 2. ]\n",
            "[ 1  4  9 16]\n",
            "[1.         0.5        0.33333333 0.25      ]\n"
          ]
        }
      ]
    },
    {
      "cell_type": "code",
      "source": [],
      "metadata": {
        "id": "4gvh7hRB5c7w"
      },
      "execution_count": null,
      "outputs": []
    },
    {
      "cell_type": "code",
      "source": [
        "arr=np.arange(12)\n",
        "print(arr)\n",
        "print(\" \")\n",
        "newarr=arr.reshape(3,4)\n",
        "print(newarr)\n",
        "print(\" \")\n",
        "new_arr=arr.reshape((3,-1),order=\"F\")\n",
        "print(new_arr)"
      ],
      "metadata": {
        "colab": {
          "base_uri": "https://localhost:8080/"
        },
        "id": "CfYfOjSecjax",
        "outputId": "d533fe95-53a3-46f4-f5f8-9e797408dcde"
      },
      "execution_count": null,
      "outputs": [
        {
          "output_type": "stream",
          "name": "stdout",
          "text": [
            "[ 0  1  2  3  4  5  6  7  8  9 10 11]\n",
            " \n",
            "[[ 0  1  2  3]\n",
            " [ 4  5  6  7]\n",
            " [ 8  9 10 11]]\n",
            " \n",
            "[[ 0  3  6  9]\n",
            " [ 1  4  7 10]\n",
            " [ 2  5  8 11]]\n"
          ]
        }
      ]
    },
    {
      "cell_type": "code",
      "source": [
        "a=np.array([[1,2],[3,4]])\n",
        "print(a)\n",
        "print(\" \")\n",
        "flatten_a=a.flatten()\n",
        "flatten_a[0]=10\n",
        "print(flatten_a)"
      ],
      "metadata": {
        "colab": {
          "base_uri": "https://localhost:8080/"
        },
        "id": "zPD7EgBa5kqp",
        "outputId": "3a5cc04c-4ee0-40c1-da05-ed8301acaaa0"
      },
      "execution_count": null,
      "outputs": [
        {
          "output_type": "stream",
          "name": "stdout",
          "text": [
            "[[1 2]\n",
            " [3 4]]\n",
            " \n",
            "[10  2  3  4]\n"
          ]
        }
      ]
    },
    {
      "cell_type": "code",
      "source": [
        "a=np.array([[1,2],[3,4]])\n",
        "raveled_a=a.ravel()\n",
        "raveled_a[0]=10\n",
        "print(raveled_a)\n",
        "print(a)"
      ],
      "metadata": {
        "colab": {
          "base_uri": "https://localhost:8080/"
        },
        "id": "r4bFf2vQ51e3",
        "outputId": "3cacf8ff-7740-47b7-c8ef-94003a721ba9"
      },
      "execution_count": null,
      "outputs": [
        {
          "output_type": "stream",
          "name": "stdout",
          "text": [
            "[10  2  3  4]\n",
            "[[10  2]\n",
            " [ 3  4]]\n"
          ]
        }
      ]
    },
    {
      "cell_type": "code",
      "source": [
        "arr1 = np.array([[1, 2], [3, 4]])\n",
        "arr2 = np.array([[2, 1], [3, 5]])\n",
        "greater_than = arr1 > arr2\n",
        "less_than = arr1 < arr2\n",
        "equal_to = arr1 == arr2\n",
        "print(\"Greater than:\\n\", greater_than)\n",
        "print(\"\\nLess than:\\n\", less_than)\n",
        "print(\"\\nEqual to:\\n\", equal_to)"
      ],
      "metadata": {
        "colab": {
          "base_uri": "https://localhost:8080/"
        },
        "id": "h7BYtX-08-js",
        "outputId": "368d64d8-51ea-49d7-eb12-3fa54704144e"
      },
      "execution_count": null,
      "outputs": [
        {
          "output_type": "stream",
          "name": "stdout",
          "text": [
            "Greater than:\n",
            " [[False  True]\n",
            " [False False]]\n",
            "\n",
            "Less than:\n",
            " [[ True False]\n",
            " [False  True]]\n",
            "\n",
            "Equal to:\n",
            " [[False False]\n",
            " [ True False]]\n"
          ]
        }
      ]
    },
    {
      "cell_type": "code",
      "source": [
        "a=np.arange(12).reshape(3,4)\n",
        "b=a>4\n",
        "print(b)\n",
        "a[b]=10\n",
        "print(a)"
      ],
      "metadata": {
        "id": "80adUDSwc1tJ",
        "colab": {
          "base_uri": "https://localhost:8080/"
        },
        "outputId": "0fbafc8b-bb06-4d5b-8cc4-29cf5ef9fc96"
      },
      "execution_count": null,
      "outputs": [
        {
          "output_type": "stream",
          "name": "stdout",
          "text": [
            "[[False False False False]\n",
            " [False  True  True  True]\n",
            " [ True  True  True  True]]\n",
            "[[ 0  1  2  3]\n",
            " [ 4 10 10 10]\n",
            " [10 10 10 10]]\n"
          ]
        }
      ]
    },
    {
      "cell_type": "code",
      "source": [
        "names=np.array(['Bob','Joe','Will','Bob','Will','Joe','Joe'])\n",
        "data=np.arange(28).reshape(7,4)\n",
        "print(names)\n",
        "print(data)\n",
        "print(names=='Bob')\n",
        "print(data[names=='Bob',2:])\n",
        "print(\" \")\n",
        "print(data[names=='Bob',3])"
      ],
      "metadata": {
        "colab": {
          "base_uri": "https://localhost:8080/"
        },
        "id": "jQ8nG4kNTl53",
        "outputId": "8a6ec744-bf3a-4055-f711-2e369d5c4267"
      },
      "execution_count": null,
      "outputs": [
        {
          "output_type": "stream",
          "name": "stdout",
          "text": [
            "['Bob' 'Joe' 'Will' 'Bob' 'Will' 'Joe' 'Joe']\n",
            "[[ 0  1  2  3]\n",
            " [ 4  5  6  7]\n",
            " [ 8  9 10 11]\n",
            " [12 13 14 15]\n",
            " [16 17 18 19]\n",
            " [20 21 22 23]\n",
            " [24 25 26 27]]\n",
            "[ True False False  True False False False]\n",
            "[[ 2  3]\n",
            " [14 15]]\n",
            " \n",
            "[ 3 15]\n"
          ]
        }
      ]
    },
    {
      "cell_type": "code",
      "source": [
        "arr = np.arange(32).reshape(8, 4)\n",
        "print(\"arr= \\n\",arr)\n",
        "print(\"\\narr[[1, 5, 7, 2]]= \\n\",arr[[1, 5, 7, 2]])\n",
        "print(\"\\narr[[1, 5, 7, 2], [0, 3, 1, 2]]= \\n\",arr[[1, 5, 7, 2], [0, 3, 1, 2]])\n",
        "arr[[1, 5, 7, 2]] = 1"
      ],
      "metadata": {
        "id": "6YEr2tsQVTIk",
        "colab": {
          "base_uri": "https://localhost:8080/"
        },
        "outputId": "1688f38f-2c7d-4048-ec23-fd8e95e6e247"
      },
      "execution_count": null,
      "outputs": [
        {
          "output_type": "stream",
          "name": "stdout",
          "text": [
            "arr= \n",
            " [[ 0  1  2  3]\n",
            " [ 4  5  6  7]\n",
            " [ 8  9 10 11]\n",
            " [12 13 14 15]\n",
            " [16 17 18 19]\n",
            " [20 21 22 23]\n",
            " [24 25 26 27]\n",
            " [28 29 30 31]]\n",
            "\n",
            "arr[[1, 5, 7, 2]]= \n",
            " [[ 4  5  6  7]\n",
            " [20 21 22 23]\n",
            " [28 29 30 31]\n",
            " [ 8  9 10 11]]\n",
            "\n",
            "arr[[1, 5, 7, 2], [0, 3, 1, 2]]= \n",
            " [ 4 23 29 10]\n"
          ]
        }
      ]
    },
    {
      "cell_type": "code",
      "source": [
        "arr = np.arange(12).reshape((3, 4))\n",
        "print(arr)\n",
        "print(\"Transpose using .T\")\n",
        "print(arr.T)\n",
        "print(\"Transpose using the transpose() function\")\n",
        "print(np.transpose(arr))"
      ],
      "metadata": {
        "colab": {
          "base_uri": "https://localhost:8080/"
        },
        "id": "MteNZ-h3eMsY",
        "outputId": "b2a0fc35-7f70-44c5-ab9e-710224987ebb"
      },
      "execution_count": null,
      "outputs": [
        {
          "output_type": "stream",
          "name": "stdout",
          "text": [
            "[[ 0  1  2  3]\n",
            " [ 4  5  6  7]\n",
            " [ 8  9 10 11]]\n",
            "Transpose using .T\n",
            "[[ 0  4  8]\n",
            " [ 1  5  9]\n",
            " [ 2  6 10]\n",
            " [ 3  7 11]]\n",
            "Transpose using the transpose() function\n",
            "[[ 0  4  8]\n",
            " [ 1  5  9]\n",
            " [ 2  6 10]\n",
            " [ 3  7 11]]\n"
          ]
        }
      ]
    },
    {
      "cell_type": "code",
      "source": [
        "arr1=np.transpose(arr,(1,0))\n",
        "print(arr1)\n",
        "arr2=np.transpose(arr,(0,1))\n",
        "print(arr2)"
      ],
      "metadata": {
        "colab": {
          "base_uri": "https://localhost:8080/"
        },
        "id": "xhod9HS1elGu",
        "outputId": "c0b3b111-6c74-4808-ecfd-1c2fd228a9aa"
      },
      "execution_count": null,
      "outputs": [
        {
          "output_type": "stream",
          "name": "stdout",
          "text": [
            "[[ 0  4  8]\n",
            " [ 1  5  9]\n",
            " [ 2  6 10]\n",
            " [ 3  7 11]]\n",
            "[[ 0  1  2  3]\n",
            " [ 4  5  6  7]\n",
            " [ 8  9 10 11]]\n"
          ]
        }
      ]
    },
    {
      "cell_type": "code",
      "source": [
        "arr = np.arange(12).reshape((2, 3,2))\n",
        "print(arr)\n",
        "print(\"Transpose using .T\")\n",
        "arr3dT=arr.T\n",
        "print(arr3dT)\n",
        "print(arr3dT.shape)\n",
        "print(\"Transpose using the transpose() function\")\n",
        "print(np.transpose(arr))"
      ],
      "metadata": {
        "colab": {
          "base_uri": "https://localhost:8080/"
        },
        "id": "qjCVQ3OkenGW",
        "outputId": "8ff30aae-9ffe-4016-93de-2e6e8482553d"
      },
      "execution_count": null,
      "outputs": [
        {
          "output_type": "stream",
          "name": "stdout",
          "text": [
            "[[[ 0  1]\n",
            "  [ 2  3]\n",
            "  [ 4  5]]\n",
            "\n",
            " [[ 6  7]\n",
            "  [ 8  9]\n",
            "  [10 11]]]\n",
            "Transpose using .T\n",
            "[[[ 0  6]\n",
            "  [ 2  8]\n",
            "  [ 4 10]]\n",
            "\n",
            " [[ 1  7]\n",
            "  [ 3  9]\n",
            "  [ 5 11]]]\n",
            "(2, 3, 2)\n",
            "Transpose using the transpose() function\n",
            "[[[ 0  6]\n",
            "  [ 2  8]\n",
            "  [ 4 10]]\n",
            "\n",
            " [[ 1  7]\n",
            "  [ 3  9]\n",
            "  [ 5 11]]]\n"
          ]
        }
      ]
    },
    {
      "cell_type": "code",
      "source": [
        "arr = np.arange(12).reshape((3, 4))\n",
        "print(\"Dot product of arr and arr2:\")\n",
        "print(np.dot(arr, arr.T))"
      ],
      "metadata": {
        "colab": {
          "base_uri": "https://localhost:8080/"
        },
        "id": "Dc1hOdpmepzm",
        "outputId": "fd9c7129-ae32-4af5-f831-452b9b4feefb"
      },
      "execution_count": null,
      "outputs": [
        {
          "output_type": "stream",
          "name": "stdout",
          "text": [
            "Dot product of arr and arr2:\n",
            "[[ 14  38  62]\n",
            " [ 38 126 214]\n",
            " [ 62 214 366]]\n"
          ]
        }
      ]
    },
    {
      "cell_type": "code",
      "source": [
        "arr = np.arange(12).reshape((3, 4))\n",
        "print(arr)\n",
        "print(\"Swap axes 0 and 1:\")\n",
        "print(np.swapaxes(arr, 0, 1))"
      ],
      "metadata": {
        "colab": {
          "base_uri": "https://localhost:8080/"
        },
        "id": "ZJ7mhBA1esdm",
        "outputId": "da016460-6dcf-4b23-fe00-dba5b6f3f0b0"
      },
      "execution_count": null,
      "outputs": [
        {
          "output_type": "stream",
          "name": "stdout",
          "text": [
            "[[ 0  1  2  3]\n",
            " [ 4  5  6  7]\n",
            " [ 8  9 10 11]]\n",
            "Swap axes 0 and 1:\n",
            "[[ 0  4  8]\n",
            " [ 1  5  9]\n",
            " [ 2  6 10]\n",
            " [ 3  7 11]]\n"
          ]
        }
      ]
    },
    {
      "cell_type": "code",
      "source": [
        "arr1 = np.array([[1, 2],\n",
        "[3, 4]])\n",
        "arr2 = np.array([[5, 6],\n",
        "[7, 8]])\n",
        "result = np.multiply(arr1, arr2)\n",
        "print(result)"
      ],
      "metadata": {
        "colab": {
          "base_uri": "https://localhost:8080/"
        },
        "id": "8LRUIo_HeuK_",
        "outputId": "4b21ca13-3359-4410-cb3c-e7bcb9450809"
      },
      "execution_count": null,
      "outputs": [
        {
          "output_type": "stream",
          "name": "stdout",
          "text": [
            "[[ 5 12]\n",
            " [21 32]]\n"
          ]
        }
      ]
    }
  ]
}